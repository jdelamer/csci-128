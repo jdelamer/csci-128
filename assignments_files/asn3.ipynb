{
  "nbformat": 4,
  "nbformat_minor": 0,
  "metadata": {
    "colab": {
      "name": "asn3.ipynb",
      "provenance": []
    },
    "kernelspec": {
      "name": "python3",
      "display_name": "Python 3"
    },
    "language_info": {
      "name": "python"
    }
  },
  "cells": [
    {
      "cell_type": "code",
      "source": [
        "# Student name:\n",
        "# Student ID:\n",
        "# Email: "
      ],
      "metadata": {
        "id": "0I-TTd5HMGVO"
      },
      "execution_count": null,
      "outputs": []
    },
    {
      "cell_type": "code",
      "execution_count": null,
      "metadata": {
        "id": "Cc5ybJ9RLWr5"
      },
      "outputs": [],
      "source": [
        "def draw(grid):\n",
        "  \"\"\"\n",
        "  This function draw the grid with the token at the correct position.\n",
        "  It is printing directly, so it doesn't return anything.\n",
        "  \"\"\"\n",
        "  print_l = \"\"\n",
        "  for line in range(len(grid)):\n",
        "    print_col = \"\"\n",
        "    for col in range(len(grid[line])):\n",
        "      if col == 0:\n",
        "        print_col += \"| \"\n",
        "      print_col += grid[line][col] +\" \"\n",
        "      if col == len(grid[line])-1:\n",
        "        print_col += \"|\\n\"\n",
        "    print_l += print_col\n",
        "  for col in range(len(grid[line])):\n",
        "    if col == 0:\n",
        "      print_l +=\"|\"\n",
        "    elif col == len(grid[line])-1:\n",
        "      print_l +=\"|\"\n",
        "    else:\n",
        "      print_l += \"===\"\n",
        "  print(print_l)\n"
      ]
    },
    {
      "cell_type": "code",
      "source": [
        "def create_grid():\n",
        "  \"\"\"\n",
        "  This function should create a 2D list.\n",
        "  The number of line should be 6 and the number of column should be 7.\n",
        "  The initial element in each 'cell' is '.'.\n",
        "  The function return the grid created.\n",
        "  \"\"\"\n"
      ],
      "metadata": {
        "id": "dpgK6cBTl8KN"
      },
      "execution_count": null,
      "outputs": []
    },
    {
      "cell_type": "code",
      "source": [
        "def is_full(grid):\n",
        "  \"\"\"\n",
        "  This function verify if the grid is full.\n",
        "  The grid i considered full if there is one '.' inside it.\n",
        "  It returns True or False.\n",
        "  \"\"\"\n",
        "\n"
      ],
      "metadata": {
        "id": "ssHfOfjSAcuP"
      },
      "execution_count": null,
      "outputs": []
    },
    {
      "cell_type": "code",
      "source": [
        "def get_line_in_col(grid, column):\n",
        "  \"\"\"\n",
        "  This function return the next free cell in the column starting from the bottom.\n",
        "  To know if the cell is free we verify if '.' is in the cell.\n",
        "  \"\"\"\n"
      ],
      "metadata": {
        "id": "0TgxkuhZwrsD"
      },
      "execution_count": null,
      "outputs": []
    },
    {
      "cell_type": "code",
      "source": [
        "def drop_token(grid, column, token):\n",
        "  \"\"\"\n",
        "  This function take the grid, the column and the token.\n",
        "  It will call get_line_in_col to know where to add the token in the column.\n",
        "  It will modify the grid for the specific line and column.\n",
        "  Finally, it will return the line where the token was placed.\n",
        "  \"\"\"\n",
        "\n",
        "  # Insert code\n",
        "\n",
        "\n",
        "  return line"
      ],
      "metadata": {
        "id": "ZRzq7mrInM8Z"
      },
      "execution_count": null,
      "outputs": []
    },
    {
      "cell_type": "code",
      "source": [
        "def check_line(grid, line, token):\n",
        "  \"\"\"\n",
        "  This function check if the player aligned 4 token (or more) on the same line.\n",
        "  To simplify the implementation we start a the beginning of the line.\n",
        "  Each time a token of the player is found had 1 to a counter.\n",
        "  If the counter each 4, return True.\n",
        "  If a token of another player is found, reset the counter to 0.\n",
        "  At the end of the line, if the counter never reached 4, return False.\n",
        "  \"\"\"\n",
        "  \n",
        "  "
      ],
      "metadata": {
        "id": "RVnd297bxwBC"
      },
      "execution_count": null,
      "outputs": []
    },
    {
      "cell_type": "code",
      "source": [
        "def check_column(grid, column, token):\n",
        "  \"\"\"\n",
        "  This function check if the player aligned 4 token (or more) on the same column.\n",
        "  To simplify the implementation we start a the beginning of the column.\n",
        "  Each time a token of the player is found had 1 to a counter.\n",
        "  If the counter each 4, return True.\n",
        "  If a token of another player is found, reset the counter to 0.\n",
        "  At the end of the column, if the counter never reached 4, return False.\n",
        "  \"\"\"\n",
        "  "
      ],
      "metadata": {
        "id": "cu4TcmOe0DCP"
      },
      "execution_count": null,
      "outputs": []
    },
    {
      "cell_type": "code",
      "source": [
        "def check_diag(grid, line, column, token):\n",
        "  \"\"\"\n",
        "  This function check if the player aligned 4 token (or more) on a diagonal.\n",
        "  We calculate for each diagonal (starting from a token) the number of connected token.\n",
        "  If one diagonal sum to 4 (or more), it returns True.\n",
        "  Otherwise False.\n",
        "  \"\"\"\n",
        "  left_to_right = 1\n",
        "  left_to_right += check_diag_up_left(grid, line, column, token)\n",
        "  left_to_right += check_diag_down_right(grid, line, column, token)\n",
        "\n",
        "  right_to_left = 1\n",
        "  right_to_left += check_diag_up_right(grid, line, column, token)\n",
        "  right_to_left += check_diag_down_left(grid, line, column, token)\n",
        "\n",
        "  if left_to_right >= 4 or right_to_left >= 4:\n",
        "    return True\n",
        "  else:\n",
        "    return False\n",
        "\n",
        "\n",
        "def check_diag_up_left(grid, line, column, token):\n",
        "  \"\"\"\n",
        "  Calculate the number of connected token in the up-left diagonal.\n",
        "  Return the number of token.\n",
        "  \"\"\"\n",
        "  nb = -1\n",
        "  while grid[line][column] == token:\n",
        "    line -= 1\n",
        "    column -= 1\n",
        "    nb += 1\n",
        "    if line < 0 or column < 0:\n",
        "      break\n",
        "  return nb\n",
        "\n",
        "def check_diag_down_right(grid, line, column, token):\n",
        "  \"\"\"\n",
        "  Calculate the number of connected token in the down-right diagonal.\n",
        "  Return the number of token.\n",
        "  \"\"\"\n",
        "  nb = -1\n",
        "  while grid[line][column] == token:\n",
        "    line += 1\n",
        "    column += 1\n",
        "    nb += 1\n",
        "    if line >= len(grid) or column >= len(grid):\n",
        "      break\n",
        "  return nb\n",
        "\n",
        "def check_diag_up_right(grid, line, column, token):\n",
        "  \"\"\"\n",
        "  Calculate the number of connected token in the up-right diagonal.\n",
        "  Return the number of token.\n",
        "  \"\"\"\n",
        "  nb = -1\n",
        "  while grid[line][column] == token:\n",
        "    line -= 1\n",
        "    column += 1\n",
        "    nb += 1\n",
        "    if line < 0 or column >= len(grid):\n",
        "      break\n",
        "  return nb\n",
        "\n",
        "def check_diag_down_left(grid, line, column, token):\n",
        "  \"\"\"\n",
        "  Calculate the number of connected token in the down-left diagonal.\n",
        "  Return the number of token.\n",
        "  \"\"\"\n",
        "  nb = -1\n",
        "  while grid[line][column] == token:\n",
        "    line += 1\n",
        "    column -= 1\n",
        "    nb += 1\n",
        "    if line >= len(grid) or column < 0:\n",
        "      break\n",
        "  return nb\n"
      ],
      "metadata": {
        "id": "EdRCY8aF1vXq"
      },
      "execution_count": null,
      "outputs": []
    },
    {
      "cell_type": "code",
      "source": [
        "def won(grid, line, column, token):\n",
        "  \"\"\"\n",
        "  This function verifies if the player won.\n",
        "  It calls check_line, check_column and check_diag.\n",
        "  If one is True return True.\n",
        "  Otherwise return False.\n",
        "  \"\"\"\n",
        "  \n",
        "\n",
        "  "
      ],
      "metadata": {
        "id": "uG9tiHN3CcEY"
      },
      "execution_count": null,
      "outputs": []
    },
    {
      "cell_type": "code",
      "source": [
        "def connect4():\n",
        "  \"\"\"\n",
        "  Main function.\n",
        "  Launch the game:\n",
        "  * Create the grid.\n",
        "  * Start with token 'R'\n",
        "  * Draw the grid\n",
        "  * While the grid is not full:\n",
        "    * ask the player with the current token in which column in want to play.\n",
        "    * Drop the token and get the line.\n",
        "    * Draw the grid\n",
        "    * Check if the player won. If it is the case show a message and stop the game.\n",
        "    * Else, change te token/palyer.\n",
        "  \"\"\"\n",
        "  \n",
        "\n"
      ],
      "metadata": {
        "id": "cgc5U-Pl_rfl"
      },
      "execution_count": null,
      "outputs": []
    },
    {
      "cell_type": "code",
      "source": [
        "connect4()"
      ],
      "metadata": {
        "colab": {
          "base_uri": "https://localhost:8080/"
        },
        "id": "InYF70hGDJnm",
        "outputId": "ce46dc50-8e80-4593-afb4-95a8ec9133ab"
      },
      "execution_count": null,
      "outputs": [
        {
          "output_type": "stream",
          "name": "stdout",
          "text": [
            "| . . . . . . . |\n",
            "| . . . . . . . |\n",
            "| . . . . . . . |\n",
            "| . . . . . . . |\n",
            "| . . . . . . . |\n",
            "| . . . . . . . |\n",
            "|===============|\n",
            "Player R, please select a column: 3\n",
            "\u001b[2J\n",
            "| . . . . . . . |\n",
            "| . . . . . . . |\n",
            "| . . . . . . . |\n",
            "| . . . . . . . |\n",
            "| . . . . . . . |\n",
            "| . . . R . . . |\n",
            "|===============|\n",
            "Player Y, please select a column: 2\n",
            "\u001b[2J\n",
            "| . . . . . . . |\n",
            "| . . . . . . . |\n",
            "| . . . . . . . |\n",
            "| . . . . . . . |\n",
            "| . . . . . . . |\n",
            "| . . Y R . . . |\n",
            "|===============|\n",
            "Player R, please select a column: 3\n",
            "\u001b[2J\n",
            "| . . . . . . . |\n",
            "| . . . . . . . |\n",
            "| . . . . . . . |\n",
            "| . . . . . . . |\n",
            "| . . . R . . . |\n",
            "| . . Y R . . . |\n",
            "|===============|\n",
            "Player Y, please select a column: 2\n",
            "\u001b[2J\n",
            "| . . . . . . . |\n",
            "| . . . . . . . |\n",
            "| . . . . . . . |\n",
            "| . . . . . . . |\n",
            "| . . Y R . . . |\n",
            "| . . Y R . . . |\n",
            "|===============|\n",
            "Player R, please select a column: 3\n",
            "\u001b[2J\n",
            "| . . . . . . . |\n",
            "| . . . . . . . |\n",
            "| . . . . . . . |\n",
            "| . . . R . . . |\n",
            "| . . Y R . . . |\n",
            "| . . Y R . . . |\n",
            "|===============|\n",
            "Player Y, please select a column: 2\n",
            "\u001b[2J\n",
            "| . . . . . . . |\n",
            "| . . . . . . . |\n",
            "| . . . . . . . |\n",
            "| . . Y R . . . |\n",
            "| . . Y R . . . |\n",
            "| . . Y R . . . |\n",
            "|===============|\n",
            "Player R, please select a column: 3\n",
            "\u001b[2J\n",
            "| . . . . . . . |\n",
            "| . . . . . . . |\n",
            "| . . . R . . . |\n",
            "| . . Y R . . . |\n",
            "| . . Y R . . . |\n",
            "| . . Y R . . . |\n",
            "|===============|\n",
            "Player R win!\n"
          ]
        }
      ]
    }
  ]
}