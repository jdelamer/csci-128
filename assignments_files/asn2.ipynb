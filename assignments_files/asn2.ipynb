{
  "nbformat": 4,
  "nbformat_minor": 0,
  "metadata": {
    "colab": {
      "name": "asn2.ipynb",
      "provenance": []
    },
    "kernelspec": {
      "name": "python3",
      "display_name": "Python 3"
    },
    "language_info": {
      "name": "python"
    }
  },
  "cells": [
    {
      "cell_type": "code",
      "execution_count": null,
      "metadata": {
        "id": "NnZ1PzZmfe_l"
      },
      "outputs": [],
      "source": [
        "# Student name:\n",
        "# Student ID:"
      ]
    },
    {
      "cell_type": "code",
      "source": [
        "import math\n",
        "import csv\n",
        "import numpy\n",
        "from termcolor import colored\n",
        "\n",
        "\n",
        "def load_asn2_data():\n",
        "  \"\"\"\n",
        "  This function loads the file `wordle.csv` and returns a LIST of 5 letters words.\n",
        "  We'll talk about LISTs formally in class in a few lectures, but maybe\n",
        "  you can start guessing how they work based on what you see here...\n",
        "  \"\"\"\n",
        "    \n",
        "    \n",
        "  reader = csv.reader(open('./wordle.csv', 'r'))        # wordle.csv MUST be in the same directory as this script for this to work!\n",
        "  words = []  \n",
        "  \n",
        "  for r in reader:\n",
        "    words.append(r[0]+r[1]+r[2]+r[3]+r[4])\n",
        "        \n",
        "  return words"
      ],
      "metadata": {
        "id": "cEh7qgvTfkzT"
      },
      "execution_count": null,
      "outputs": []
    },
    {
      "cell_type": "code",
      "source": [
        "def color(char, color):\n",
        "  \"\"\"\n",
        "  This function return a char in color.\n",
        "  \"\"\"\n",
        "  if color == 'ORANGE':\n",
        "    return '\\033[93m' + char\n",
        "  elif color == 'GREEN':\n",
        "    return '\\033[92m' + char\n",
        "  else:\n",
        "    return '\\033[0m'+char"
      ],
      "metadata": {
        "id": "gSA5ftcCn-pC"
      },
      "execution_count": null,
      "outputs": []
    },
    {
      "cell_type": "code",
      "source": [
        "def choose_a_word(list_of_words):\n",
        "  \"\"\"\n",
        "  This function choose a word randomly from a list of word.\n",
        "  \"\"\"\n",
        "  # INSERT YOUR CODE HERE\n"
      ],
      "metadata": {
        "id": "mr-Kv7RwhUiG"
      },
      "execution_count": null,
      "outputs": []
    },
    {
      "cell_type": "code",
      "source": [
        "def give_hint(player_guess, word_to_guess):\n",
        "  \"\"\"\n",
        "  This function gives hint to the user.\n",
        "  Print the hints directly.\n",
        "  \"\"\"\n",
        "  hints = \"\"\n",
        "\n",
        "  # INSERT YOUR CODE HERE\n",
        "\n",
        "  print(hints)\n",
        "  print('\\033[0m')\n"
      ],
      "metadata": {
        "id": "Aat-anbClqYU"
      },
      "execution_count": null,
      "outputs": []
    },
    {
      "cell_type": "code",
      "source": [
        "def guess_word(word_to_guess):\n",
        "  \"\"\"\n",
        "  This function as the player a word until they found the word or they guessed 5 times.\n",
        "  Return True if the word is found, or False otherwise.\n",
        "  \"\"\"\n",
        "  nb_guess = 0\n",
        "\n",
        "  # INSERT YOUR CODE HERE\n",
        "  \n"
      ],
      "metadata": {
        "id": "t7bQGDj8iiIb"
      },
      "execution_count": null,
      "outputs": []
    },
    {
      "cell_type": "code",
      "source": [
        "def wordle():\n",
        "  \"\"\"\n",
        "  This is the main function.\n",
        "  This function load the data file, choose a word to guess and launch the game.\n",
        "  \"\"\"\n",
        "\n",
        "  # INSERT YOUR CODE HERE\n",
        "\n"
      ],
      "metadata": {
        "id": "gYe6CMnxlVjL"
      },
      "execution_count": null,
      "outputs": []
    },
    {
      "cell_type": "code",
      "source": [
        "wordle()"
      ],
      "metadata": {
        "id": "Ne9sRMalhSw5"
      },
      "execution_count": null,
      "outputs": []
    }
  ]
}