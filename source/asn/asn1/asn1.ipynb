{
  "nbformat": 4,
  "nbformat_minor": 0,
  "metadata": {
    "colab": {
      "provenance": []
    },
    "kernelspec": {
      "name": "python3",
      "display_name": "Python 3"
    },
    "language_info": {
      "name": "python"
    }
  },
  "cells": [
    {
      "cell_type": "code",
      "source": [
        "# NAME:\n",
        "# STUDENT NUMBER:"
      ],
      "metadata": {
        "id": "JKGKqEZASxWi"
      },
      "execution_count": null,
      "outputs": []
    },
    {
      "cell_type": "code",
      "execution_count": null,
      "metadata": {
        "id": "xLqCuU8Aw8x8"
      },
      "outputs": [],
      "source": [
        "!pip3 install ColabTurtle"
      ]
    },
    {
      "cell_type": "code",
      "source": [
        "from ColabTurtle.Turtle import *\n",
        "initializeTurtle()"
      ],
      "metadata": {
        "id": "9ODFYPd-yNeC"
      },
      "execution_count": null,
      "outputs": []
    },
    {
      "cell_type": "code",
      "source": [
        "def blobs(iterations, length, angle):\n",
        "  \"\"\"\n",
        "  This function draw the blobs fractal.\n",
        "  \n",
        "  :param iterations: Number of iterations left\n",
        "  :param length: Length of the forward line\n",
        "  :param angle: Turn angle\n",
        "\n",
        "  \"\"\"\n",
        "  # Write your code there.\n",
        "\t# Don't forget the case for iteration 0!"
      ],
      "metadata": {
        "id": "aABdzha_IELX"
      },
      "execution_count": null,
      "outputs": []
    },
    {
      "cell_type": "code",
      "source": [
        "# Don't touch the following code.\n",
        "home()\n",
        "clear()\n",
        "hideturtle()\n",
        "speed(13)\n",
        "\n",
        "# Default parameter to obtain the same pattern.\n",
        "blobs(5, 25, 90)"
      ],
      "metadata": {
        "id": "SxJqr2-ZvAeJ"
      },
      "execution_count": null,
      "outputs": []
    },
    {
      "cell_type": "code",
      "source": [
        "def tiling(iterations, length, angle):\n",
        "  \"\"\"\n",
        "  This function draw the tiling fractal.\n",
        "  \n",
        "  :param iterations: Number of iterations left\n",
        "  :param length: Length of the forward line\n",
        "  :param angle: Turn angle\n",
        "\n",
        "  \"\"\"\n",
        "  # Write your code there.\n",
        "\t# Don't forget the case for iteration 0!"
      ],
      "metadata": {
        "id": "-2Y6_sHRIy6f"
      },
      "execution_count": null,
      "outputs": []
    },
    {
      "cell_type": "code",
      "source": [
        "# Don't touch the following code.\n",
        "home()\n",
        "clear()\n",
        "hideturtle()\n",
        "speed(13)\n",
        "\n",
        "# Default parameter to obtain the same pattern.\n",
        "tiling(5, 10, 90)"
      ],
      "metadata": {
        "id": "LIzRxOFZJCF2"
      },
      "execution_count": null,
      "outputs": []
    },
    {
      "cell_type": "code",
      "source": [
        "def koch_curve(iterations, length, angle):\n",
        "  \"\"\"\n",
        "  This function draw the Koch curve.\n",
        "\n",
        "  :param iterations: Number of iterations left\n",
        "  :param length: Length of the forward line\n",
        "  :param angle: Turn angle\n",
        "\n",
        "  \"\"\"\n",
        "  # Write your code there.\n",
        "\t# Don't forget the case for iteration 0!\n"
      ],
      "metadata": {
        "id": "aUjMGs9Nzws6"
      },
      "execution_count": null,
      "outputs": []
    },
    {
      "cell_type": "code",
      "source": [
        "# Don't touch the following code.\n",
        "home()\n",
        "face(-180)\n",
        "backward(300)\n",
        "clear()\n",
        "hideturtle()\n",
        "speed(13)\n",
        "\n",
        "# Default parameter to obtain the same pattern.\n",
        "koch_curve(4,7,60)"
      ],
      "metadata": {
        "id": "QVNTzEuX4LrZ"
      },
      "execution_count": null,
      "outputs": []
    },
    {
      "cell_type": "code",
      "source": [
        "def sierpinski_X(iterations, length, angle):\n",
        "  \"\"\"\n",
        "  This function draw the sierpinski fractal.\n",
        "  \n",
        "  :param iterations: Number of iterations left\n",
        "  :param length: Length of the forward line\n",
        "  :param angle: Turn angle\n",
        "  \"\"\"\n",
        "  # Write your code there.\n",
        "\t# Don't forget the case for iteration 0!\n",
        "\n",
        "def sierpinski_Y(iterations, length, angle):\n",
        "  \"\"\"\n",
        "  This function is part of the sierpinski fractal.\n",
        "  If iterations is equal to 0 nothing happens.\n",
        "  \n",
        "  :param iterations: Number of iterations left\n",
        "  :param length: Length of the forward line\n",
        "  :param angle: Turn angle\n",
        "  \"\"\"\n",
        "  # Write your code there.\n",
        "\t# For iteration 0 you do nothing. You only do something if iterations > 0."
      ],
      "metadata": {
        "id": "CtODrXfKKgUH"
      },
      "execution_count": null,
      "outputs": []
    },
    {
      "cell_type": "code",
      "source": [
        "# Don't touch the following code.\n",
        "home()\n",
        "face(180)\n",
        "forward(200)\n",
        "face(90)\n",
        "backward(200)\n",
        "clear()\n",
        "hideturtle()\n",
        "speed(13)\n",
        "\n",
        "# Default parameter to obtain the same pattern.\n",
        "sierpinski_X(10, 10, 90)"
      ],
      "metadata": {
        "id": "XyLiZoZRLG1W"
      },
      "execution_count": null,
      "outputs": []
    }
  ]
}