{
  "cells": [
    {
      "cell_type": "code",
      "execution_count": null,
      "metadata": {
        "id": "JKGKqEZASxWi"
      },
      "outputs": [],
      "source": [
        "# NAME:\n",
        "# STUDENT NUMBER:"
      ]
    },
    {
      "cell_type": "code",
      "execution_count": null,
      "metadata": {
        "id": "xLqCuU8Aw8x8"
      },
      "outputs": [],
      "source": [
        "!pip3 install ColabTurtle"
      ]
    },
    {
      "cell_type": "code",
      "execution_count": null,
      "metadata": {
        "id": "9ODFYPd-yNeC"
      },
      "outputs": [],
      "source": [
        "from ColabTurtle.Turtle import *\n",
        "initializeTurtle()"
      ]
    },
    {
      "cell_type": "code",
      "execution_count": null,
      "metadata": {
        "id": "aABdzha_IELX"
      },
      "outputs": [],
      "source": [
        "def blobs(iterations, length, angle):\n",
        "  \"\"\"\n",
        "  This function draw the blobs fractal.\n",
        "  \n",
        "  :param iterations: Number of iterations left\n",
        "  :param length: Length of the forward line\n",
        "  :param angle: Turn angle\n",
        "\n",
        "  \"\"\"\n",
        "  # Write your code there.\n",
        "\t# Don't forget the case for iteration 0!"
      ]
    },
    {
      "cell_type": "code",
      "execution_count": null,
      "metadata": {
        "id": "SxJqr2-ZvAeJ"
      },
      "outputs": [],
      "source": [
        "# Don't touch the following code.\n",
        "home()\n",
        "clear()\n",
        "hideturtle()\n",
        "speed(13)\n",
        "\n",
        "# Default parameter to obtain the same pattern.\n",
        "blobs(6, 25, 90)"
      ]
    },
    {
      "cell_type": "code",
      "execution_count": null,
      "metadata": {
        "id": "-2Y6_sHRIy6f"
      },
      "outputs": [],
      "source": [
        "def tiling(iterations, length, angle):\n",
        "  \"\"\"\n",
        "  This function draw the tiling fractal.\n",
        "  \n",
        "  :param iterations: Number of iterations left\n",
        "  :param length: Length of the forward line\n",
        "  :param angle: Turn angle\n",
        "\n",
        "  \"\"\"\n",
        "  # Write your code there.\n",
        "\t# Don't forget the case for iteration 0!"
      ]
    },
    {
      "cell_type": "code",
      "execution_count": null,
      "metadata": {
        "id": "LIzRxOFZJCF2"
      },
      "outputs": [],
      "source": [
        "# Don't touch the following code.\n",
        "home()\n",
        "clear()\n",
        "hideturtle()\n",
        "speed(13)\n",
        "\n",
        "# Default parameter to obtain the same pattern.\n",
        "tiling(5, 10, 90)"
      ]
    },
    {
      "cell_type": "code",
      "execution_count": null,
      "metadata": {
        "id": "aUjMGs9Nzws6"
      },
      "outputs": [],
      "source": [
        "def koch_curve(iterations, length, angle):\n",
        "  \"\"\"\n",
        "  This function draw the Koch curve.\n",
        "\n",
        "  :param iterations: Number of iterations left\n",
        "  :param length: Length of the forward line\n",
        "  :param angle: Turn angle\n",
        "\n",
        "  \"\"\"\n",
        "  # Write your code there.\n",
        "\t# Don't forget the case for iteration 0!\n"
      ]
    },
    {
      "cell_type": "code",
      "execution_count": null,
      "metadata": {
        "id": "QVNTzEuX4LrZ"
      },
      "outputs": [],
      "source": [
        "# Don't touch the following code.\n",
        "home()\n",
        "face(-180)\n",
        "backward(300)\n",
        "clear()\n",
        "hideturtle()\n",
        "speed(13)\n",
        "\n",
        "# Default parameter to obtain the same pattern.\n",
        "koch_curve(4,7,60)"
      ]
    },
    {
      "cell_type": "code",
      "execution_count": null,
      "metadata": {
        "id": "CtODrXfKKgUH"
      },
      "outputs": [],
      "source": [
        "def sierpinski_X(iterations, length, angle):\n",
        "  \"\"\"\n",
        "  This function draw the sierpinski fractal.\n",
        "  \n",
        "  :param iterations: Number of iterations left\n",
        "  :param length: Length of the forward line\n",
        "  :param angle: Turn angle\n",
        "  \"\"\"\n",
        "  # Write your code there.\n",
        "\t# Don't forget the case for iteration 0!\n",
        "\n",
        "def sierpinski_Y(iterations, length, angle):\n",
        "  \"\"\"\n",
        "  This function is part of the sierpinski fractal.\n",
        "  If iterations is equal to 0 nothing happens.\n",
        "  \n",
        "  :param iterations: Number of iterations left\n",
        "  :param length: Length of the forward line\n",
        "  :param angle: Turn angle\n",
        "  \"\"\"\n",
        "  # Write your code there.\n",
        "\t# For iteration 0 you do nothing. You only do something if iterations > 0."
      ]
    },
    {
      "cell_type": "code",
      "execution_count": null,
      "metadata": {
        "id": "XyLiZoZRLG1W"
      },
      "outputs": [],
      "source": [
        "# Don't touch the following code.\n",
        "home()\n",
        "face(180)\n",
        "forward(200)\n",
        "face(90)\n",
        "backward(200)\n",
        "clear()\n",
        "hideturtle()\n",
        "speed(13)\n",
        "\n",
        "# Default parameter to obtain the same pattern.\n",
        "sierpinski_X(10, 10, 90)"
      ]
    }
  ],
  "metadata": {
    "colab": {
      "provenance": []
    },
    "kernelspec": {
      "display_name": "Python 3",
      "name": "python3"
    },
    "language_info": {
      "name": "python"
    }
  },
  "nbformat": 4,
  "nbformat_minor": 0
}
